{
 "cells": [
  {
   "cell_type": "code",
   "execution_count": 1,
   "id": "dd7a2ad3",
   "metadata": {},
   "outputs": [
    {
     "name": "stderr",
     "output_type": "stream",
     "text": [
      "[nltk_data] Downloading package stopwords to C:\\Users\\Thairone\n",
      "[nltk_data]     Almeida\\AppData\\Roaming\\nltk_data...\n",
      "[nltk_data]   Package stopwords is already up-to-date!\n"
     ]
    },
    {
     "data": {
      "text/plain": [
       "True"
      ]
     },
     "execution_count": 1,
     "metadata": {},
     "output_type": "execute_result"
    }
   ],
   "source": [
    "# Execução do script de download de stopwords em separado\n",
    "\n",
    "import nltk\n",
    "nltk.download('stopwords')"
   ]
  },
  {
   "cell_type": "code",
   "execution_count": 2,
   "id": "72aa2834",
   "metadata": {
    "scrolled": true
   },
   "outputs": [
    {
     "name": "stdout",
     "output_type": "stream",
     "text": [
      "Stopwords em português contidas no pacote NLTK:\n",
      "['a', 'à', 'ao', 'aos', 'aquela', 'aquelas', 'aquele', 'aqueles', 'aquilo', 'as', 'às', 'até', 'com', 'como', 'da', 'das', 'de', 'dela', 'delas', 'dele', 'deles', 'depois', 'do', 'dos', 'e', 'é', 'ela', 'elas', 'ele', 'eles', 'em', 'entre', 'era', 'eram', 'éramos', 'essa', 'essas', 'esse', 'esses', 'esta', 'está', 'estamos', 'estão', 'estar', 'estas', 'estava', 'estavam', 'estávamos', 'este', 'esteja', 'estejam', 'estejamos', 'estes', 'esteve', 'estive', 'estivemos', 'estiver', 'estivera', 'estiveram', 'estivéramos', 'estiverem', 'estivermos', 'estivesse', 'estivessem', 'estivéssemos', 'estou', 'eu', 'foi', 'fomos', 'for', 'fora', 'foram', 'fôramos', 'forem', 'formos', 'fosse', 'fossem', 'fôssemos', 'fui', 'há', 'haja', 'hajam', 'hajamos', 'hão', 'havemos', 'haver', 'hei', 'houve', 'houvemos', 'houver', 'houvera', 'houverá', 'houveram', 'houvéramos', 'houverão', 'houverei', 'houverem', 'houveremos', 'houveria', 'houveriam', 'houveríamos', 'houvermos', 'houvesse', 'houvessem', 'houvéssemos', 'isso', 'isto', 'já', 'lhe', 'lhes', 'mais', 'mas', 'me', 'mesmo', 'meu', 'meus', 'minha', 'minhas', 'muito', 'na', 'não', 'nas', 'nem', 'no', 'nos', 'nós', 'nossa', 'nossas', 'nosso', 'nossos', 'num', 'numa', 'o', 'os', 'ou', 'para', 'pela', 'pelas', 'pelo', 'pelos', 'por', 'qual', 'quando', 'que', 'quem', 'são', 'se', 'seja', 'sejam', 'sejamos', 'sem', 'ser', 'será', 'serão', 'serei', 'seremos', 'seria', 'seriam', 'seríamos', 'seu', 'seus', 'só', 'somos', 'sou', 'sua', 'suas', 'também', 'te', 'tem', 'tém', 'temos', 'tenha', 'tenham', 'tenhamos', 'tenho', 'terá', 'terão', 'terei', 'teremos', 'teria', 'teriam', 'teríamos', 'teu', 'teus', 'teve', 'tinha', 'tinham', 'tínhamos', 'tive', 'tivemos', 'tiver', 'tivera', 'tiveram', 'tivéramos', 'tiverem', 'tivermos', 'tivesse', 'tivessem', 'tivéssemos', 'tu', 'tua', 'tuas', 'um', 'uma', 'você', 'vocês', 'vos']\n"
     ]
    },
    {
     "name": "stderr",
     "output_type": "stream",
     "text": [
      "[nltk_data] Downloading package stopwords to C:\\Users\\Thairone\n",
      "[nltk_data]     Almeida\\AppData\\Roaming\\nltk_data...\n",
      "[nltk_data]   Package stopwords is already up-to-date!\n"
     ]
    }
   ],
   "source": [
    "# Lista de stopwords contidas no pacote NLTK para o português\n",
    "\n",
    "import nltk\n",
    "from nltk.corpus import stopwords\n",
    "\n",
    "# Baixar stopwords em português (executar apenas uma vez)\n",
    "nltk.download('stopwords')\n",
    "\n",
    "# Obter stopwords em português\n",
    "stopwords_portugues = stopwords.words('portuguese')\n",
    "\n",
    "# Exibir as stopwords\n",
    "print(\"Stopwords em português contidas no pacote NLTK:\")\n",
    "print(stopwords_portugues)"
   ]
  },
  {
   "cell_type": "code",
   "execution_count": 3,
   "id": "b1067528",
   "metadata": {},
   "outputs": [
    {
     "name": "stdout",
     "output_type": "stream",
     "text": [
      "Tema 1: negócio empresa pessoas clientes produtos mercado fazer pandemia ter anos\n",
      "Tema 2: negócios www dia 0800 evento empresas podem sobre https br\n",
      "Tema 3: desenvolvimento região turismo cidade estado município feira evento ações programa\n",
      "Tema 4: inovação empreendedorismo educação negócios startups evento programa empreendedora desenvolvimento brasil\n",
      "Tema 5: empresas negócios pequenos crédito mei micro pequenas ano serviços mil\n"
     ]
    }
   ],
   "source": [
    "# LDA do DataFrame \"ws_agencia_sebrae_noticias.xlsx\" com stopwords do pacote NLTK\n",
    "\n",
    "import nltk\n",
    "import pandas as pd\n",
    "from sklearn.feature_extraction.text import CountVectorizer\n",
    "from sklearn.decomposition import LatentDirichletAllocation\n",
    "from nltk.corpus import stopwords\n",
    "\n",
    "# Baixar stopwords em português (executar apenas uma vez)\n",
    "# nltk.download('stopwords')\n",
    "\n",
    "# Stopwords em português\n",
    "stopwords_pt = list(stopwords.words('portuguese'))\n",
    "\n",
    "# Caminho do arquivo no computador\n",
    "caminho_arquivo = r'C:\\Users\\Thairone Almeida\\Google Drive\\Thairone\\Hashtag Treinamentos\\Python Impressionador\\Script\\MBA_USP_ESALQ\\Dados até 30 06 2024\\ws_agencia_sebrae_noticias.xlsx'\n",
    "\n",
    "# Ler o arquivo Excel\n",
    "dados = pd.read_excel(caminho_arquivo)\n",
    "\n",
    "# Extrair a coluna 'Texto'\n",
    "lista_textos = dados['Texto'].dropna().tolist()\n",
    "\n",
    "# Pré-processamento do texto\n",
    "# Remover stopwords e aplicar vetorização\n",
    "vetorizador = CountVectorizer(max_df=0.95, min_df=2, stop_words=stopwords_pt)\n",
    "X = vetorizador.fit_transform(lista_textos)\n",
    "\n",
    "# Aplicar LDA\n",
    "numero_topicos = 5  # Número de temas que desejo identificar\n",
    "lda = LatentDirichletAllocation(n_components=numero_topicos, random_state=42, max_iter=10, learning_method='online')\n",
    "lda.fit(X)\n",
    "\n",
    "# Exibir os temas encontrados\n",
    "def exibir_topicos(modelo, nomes_caracteristicas, numero_palavras_topico):\n",
    "    topicos = {}\n",
    "    for indice_topico, topico in enumerate(modelo.components_):\n",
    "        topicos[f\"Tema {indice_topico + 1}\"] = \" \".join(\n",
    "            [nomes_caracteristicas[i] for i in topico.argsort()[:-numero_palavras_topico - 1:-1]]\n",
    "        )\n",
    "    return topicos\n",
    "\n",
    "numero_palavras_topico = 10  # Número de palavras principais por tema\n",
    "nomes_caracteristicas = vetorizador.get_feature_names_out()\n",
    "temas_encontrados = exibir_topicos(lda, nomes_caracteristicas, numero_palavras_topico)\n",
    "\n",
    "# Mostrar os tópicos\n",
    "for tema, palavras in temas_encontrados.items():\n",
    "    print(f\"{tema}: {palavras}\")"
   ]
  },
  {
   "cell_type": "code",
   "execution_count": 4,
   "id": "a01e8dbf",
   "metadata": {},
   "outputs": [
    {
     "name": "stdout",
     "output_type": "stream",
     "text": [
      "Tema 1: mulheres empreendedoras moda mulher anos loja feminino produtos casa empreendedorismo\n",
      "Tema 2: mei serviços atendimento empreendedor simples nacional portal informações microempreendedores individuais\n",
      "Tema 3: inovação startups prêmio empreendedorismo tecnologia projetos startup edição ecossistema nacional\n",
      "Tema 4: desenvolvimento programa cidade ações município empreendedora estado municípios parceria projeto\n",
      "Tema 5: setor serviços micro estado comércio empregos indústria economia país vagas\n",
      "Tema 6: turismo artesanato região cultura estado festival economia setor produtos criativa\n",
      "Tema 7: inscrições informações digital empreendedores programação palestra marketing serviço gestão vendas\n",
      "Tema 8: produtores produtos produção rural região agricultura qualidade rurais café produtor\n",
      "Tema 9: crédito educação pesquisa ensino alunos empreendedores pandemia professores nacional estudantes\n",
      "Tema 10: pessoas mercado clientes cliente momento empreendedor importante gente empreendedores gestão\n"
     ]
    }
   ],
   "source": [
    "# LDA do DataFrame \"ws_agencia_sebrae_noticias.xlsx\" com stopwords personalizadas\n",
    "\n",
    "import pandas as pd\n",
    "from sklearn.feature_extraction.text import CountVectorizer\n",
    "from sklearn.decomposition import LatentDirichletAllocation\n",
    "\n",
    "# Lista de stopwords\n",
    "stopwords_personalizadas = [\n",
    "    '0800', 'a', 'as', 'à', 'às', 'aquela', 'aquelas', 'aquele', 'aqueles', 'aquilo', 'acerca', 'adeus', 'agora', 'ainda', 'algo', 'algumas', 'alguns', 'ali', 'além', 'alô', 'ambos', 'ampla', 'amplas', 'amplo', 'amplos', 'ano', 'ante', 'antes', 'ao', 'aos', 'apenas', 'apoio', 'após', 'aqui', 'assim', 'atrás', 'através', 'até', 'aí', 'baixo', 'bem', 'boa', 'boas', 'bom', 'bons', 'breve', 'cada', 'catorze', 'cedo', 'cento', 'certamente', 'certeza', 'cinco', 'cima', 'coisa', 'coisas', 'com', 'como', 'conselho', 'contudo', 'contra', 'cá', 'da', 'das', 'dado', 'dados', 'dela', 'delas', 'dele', 'deles', 'demais', 'debaixo', 'de', 'dentro', 'depois', 'desde', 'dessa', 'dessas', 'desse', 'desses', 'desta', 'destas', 'deste', 'destes', 'devendo', 'deve', 'devem', 'deverá', 'dez', 'dezoito', 'dia', 'diante', 'disse', 'disso', 'disto', 'dito', 'diz', 'dizem', 'dizer', 'do', 'dos', 'dois', 'doze', 'duas', 'dúvida', 'e', 'é', 'ela', 'elas', 'ele', 'eles', 'embora', 'em', 'empresa', 'empresas', 'enquanto', 'entre', 'então', 'era', 'eram', 'éramos', 'essa', 'essas', 'esse', 'esses', 'está', 'estamos', 'estão', 'esta', 'estar', 'estas', 'estava', 'estavam', 'estávamos', 'este', 'esteja', 'estejam', 'estejamos', 'estes', 'esteve', 'estive', 'estivemos', 'estiver', 'estivera', 'estiveram', 'estivéramos', 'estiverem', 'estivermos', 'estivesse', 'estivessem', 'estivéssemos', 'estou', 'eu', 'evento', 'exemplo', 'falta', 'favor', 'faz', 'fazem', 'fazemos', 'fazendo', 'fazer', 'fazeres', 'faço', 'feita', 'feitas', 'feito', 'feitos', 'fim', 'final', 'fomos', 'fôramos', 'fora', 'for', 'foram', 'forma', 'formos', 'fosse', 'fossem', 'fôssemos', 'foi', 'fui', 'geral', 'grande', 'grandes', 'grátis', 'haja', 'hajam', 'hajamos', 'hão', 'haver', 'havemos', 'havia', 'hei', 'hoje', 'hora', 'horas', 'houve', 'houvemos', 'houver', 'houvera', 'houverá', 'houveram', 'houvéramos', 'houverão', 'houverei', 'houverem', 'houveremos', 'houveria', 'houveriam', 'houveríamos', 'houvermos', 'houvesse', 'houvessem', 'houvéssemos', 'há', 'https', 'isso', 'isto', 'já', 'la', 'lado', 'lhe', 'lhes', 'ligado', 'lo', 'local', 'logo', 'longe', 'lugar', 'lá', 'maior', 'maioria', 'maiorias', 'mal', 'mais', 'mas', 'me', 'meio', 'menor', 'menos', 'meses', 'mesma', 'mesmas', 'mesmo', 'mesmos', 'meu', 'meus', 'minha', 'minhas', 'mil', 'milhões', 'milhares', 'muito', 'muitas', 'muitos', 'na', 'nas', 'nada', 'não', 'naquela', 'naquelas', 'naquele', 'naqueles', 'nas', 'negócio', 'negócios', 'nem', 'nesta', 'nestas', 'nessa', 'nessas', 'nesse', 'nesses', 'ninguém', 'nível', 'no', 'nos', 'noite', 'nome', 'nossa', 'nossas', 'nosso', 'nossos', 'nova', 'novas', 'nove', 'novo', 'novos', 'num', 'numa', 'nunca', 'número', 'nós', 'o', 'obra', 'obrigada', 'obrigado', 'oitava', 'oitavo', 'oito', 'onde', 'ontem', 'onze', 'os', 'ou', 'outra', 'outras', 'outro', 'outros', 'para', 'parece', 'parte', 'partir', 'pela', 'pelas', 'pelo', 'pelos', 'pequena', 'pequenas', 'pequeno', 'pequenos', 'per', 'perante', 'perto', 'pode', 'podem', 'podendo', 'poder', 'poderá', 'poderão', 'poderia', 'poderiam', 'podia', 'podiam', 'pois', 'ponto', 'pontos', 'por', 'porque', 'porquê', 'posição', 'possivelmente', 'possível', 'posso', 'pouca', 'poucas', 'pouco', 'poucos', 'primeira', 'primeiras', 'primeiro', 'primeiros', 'própria', 'próprias', 'próprio', 'próprios', 'próxima', 'próximas', 'próximo', 'próximos', 'pude', 'qual', 'quais', 'qualquer', 'quando', 'quanto', 'quantos', 'quarta', 'quarto', 'quatro', 'que', 'quer', 'querem', 'quero', 'quem', 'questão', 'quinta', 'quinto', 'quinze', 'relação', 'sabe', 'sabem', 'se', 'sebrae', 'segunda', 'segundo', 'sei', 'seis', 'seja', 'sejam', 'sem', 'sempre', 'sendo', 'ser', 'será', 'serão', 'seremos', 'seria', 'seriam', 'seríamos', 'sete', 'seu', 'seus', 'sexta', 'sexto', 'si', 'sido', 'sim', 'sistema', 'só', 'sob', 'sobre', 'somente', 'somos', 'sou', 'sua', 'suas', 'são', 'tal', 'talvez', 'também', 'tampouco', 'tanta', 'tantas', 'tarde', 'tanto', 'te', 'tem', 'tém', 'temos', 'tendo', 'tenha', 'tenham', 'tenhamos', 'tenho', 'ter', 'terá', 'terão', 'terceira', 'terceiro', 'terei', 'teremos', 'teria', 'teriam', 'teríamos', 'teve', 'teu', 'teus', 'tido', 'tinha', 'tinham', 'tínhamos', 'tipo', 'tive', 'tivemos', 'tiver', 'tivera', 'tiveram', 'tivéramos', 'tiverem', 'tivermos', 'tivesse', 'tivessem', 'tivéssemos', 'toda', 'todas', 'todo', 'todos', 'trabalho', 'três', 'treze', 'tu', 'tua', 'tuas', 'tudo', 'um', 'uma', 'umas', 'uns', 'usa', 'usar', 'vai', 'vais', 'vem', 'vendo', 'ver', 'vez', 'vezes', 'vindo', 'vir', 'vários', 'você', 'vocês', 'vos', 'vão', 'www', 'à', 'é', 'última', 'últimas', 'último', 'últimos', 'br', 'ac', 'al', 'ap', 'am', 'ba', 'ce', 'df', 'es', 'go', 'ma', 'mt', 'ms', 'mg', 'pa', 'pb', 'pr', 'pe', 'pi', 'rj', 'rn', 'rs', 'ro', 'rr', 'sc', 'sp', 'se', 'to', 'acre', 'alagoas', 'amazonas', 'bahia', 'ceará', 'distrito', 'espírito', 'santo', 'goiás', 'maranhão', 'mato', 'grosso', 'minas', 'gerais', 'pará', 'paraíba', 'paraná', 'pernambuco', 'piauí', 'rio', 'janeiro', 'grande', 'rondônia', 'roraima', 'santa', 'catarina', 'são', 'paulo', 'sergipe', 'tocantins', 'brasil', 'domingo', 'feira', 'sábado'\n",
    "]\n",
    "\n",
    "# Caminho do arquivo no computador\n",
    "caminho_arquivo = r'C:\\Users\\Thairone Almeida\\Google Drive\\Thairone\\Hashtag Treinamentos\\Python Impressionador\\Script\\MBA_USP_ESALQ\\Dados até 30 06 2024\\ws_agencia_sebrae_noticias.xlsx'\n",
    "\n",
    "# Ler o arquivo Excel\n",
    "dados = pd.read_excel(caminho_arquivo)\n",
    "\n",
    "# Extrair a coluna 'Texto'\n",
    "lista_textos = dados['Texto'].dropna().tolist()\n",
    "\n",
    "# Pré-processamento do texto\n",
    "# Remover stopwords e aplicar vetorização\n",
    "vetorizador = CountVectorizer(max_df=0.95, min_df=2, stop_words=stopwords_personalizadas)\n",
    "X = vetorizador.fit_transform(lista_textos)\n",
    "\n",
    "# Aplicar LDA\n",
    "numero_topicos = 10 #5  # Número de temas que desejo identificar\n",
    "lda = LatentDirichletAllocation(n_components=numero_topicos, random_state=42, max_iter=10, learning_method='online')\n",
    "lda.fit(X)\n",
    "\n",
    "# Exibir os temas encontrados\n",
    "def exibir_topicos(modelo, nomes_caracteristicas, numero_palavras_topico):\n",
    "    topicos = {}\n",
    "    for indice_topico, topico in enumerate(modelo.components_):\n",
    "        topicos[f\"Tema {indice_topico + 1}\"] = \" \".join(\n",
    "            [nomes_caracteristicas[i] for i in topico.argsort()[:-numero_palavras_topico - 1:-1]]\n",
    "        )\n",
    "    return topicos\n",
    "\n",
    "numero_palavras_topico = 10  # Número de palavras principais por tema\n",
    "nomes_caracteristicas = vetorizador.get_feature_names_out()\n",
    "temas_encontrados = exibir_topicos(lda, nomes_caracteristicas, numero_palavras_topico)\n",
    "\n",
    "# Mostrar os tópicos\n",
    "for tema, palavras in temas_encontrados.items():\n",
    "    print(f\"{tema}: {palavras}\")"
   ]
  }
 ],
 "metadata": {
  "kernelspec": {
   "display_name": "Python 3 (ipykernel)",
   "language": "python",
   "name": "python3"
  },
  "language_info": {
   "codemirror_mode": {
    "name": "ipython",
    "version": 3
   },
   "file_extension": ".py",
   "mimetype": "text/x-python",
   "name": "python",
   "nbconvert_exporter": "python",
   "pygments_lexer": "ipython3",
   "version": "3.12.4"
  }
 },
 "nbformat": 4,
 "nbformat_minor": 5
}
